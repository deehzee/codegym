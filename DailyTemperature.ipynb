{
 "cells": [
  {
   "cell_type": "code",
   "execution_count": 1,
   "id": "260a95a7",
   "metadata": {},
   "outputs": [],
   "source": [
    "from typing import List"
   ]
  },
  {
   "cell_type": "code",
   "execution_count": 10,
   "id": "d266a775",
   "metadata": {},
   "outputs": [],
   "source": [
    "def next_higher_temp(temperatures: List[int]) -> List[int]:\n",
    "    result = [0] * len(temperatures)\n",
    "    stack = []\n",
    "    for i, t in enumerate(temperatures):\n",
    "        while stack and stack[-1][0] < t:\n",
    "            t1, j = stack.pop()\n",
    "            result[j] = i - j\n",
    "        stack.append((t, i))\n",
    "    return result\n"
   ]
  },
  {
   "cell_type": "code",
   "execution_count": 11,
   "id": "b3e25da7",
   "metadata": {},
   "outputs": [
    {
     "data": {
      "text/plain": [
       "[]"
      ]
     },
     "execution_count": 11,
     "metadata": {},
     "output_type": "execute_result"
    }
   ],
   "source": [
    "temperatures = []\n",
    "next_higher_temp(temperatures)"
   ]
  },
  {
   "cell_type": "code",
   "execution_count": 12,
   "id": "bfe4d229",
   "metadata": {},
   "outputs": [
    {
     "data": {
      "text/plain": [
       "[0]"
      ]
     },
     "execution_count": 12,
     "metadata": {},
     "output_type": "execute_result"
    }
   ],
   "source": [
    "temperatures = [23]\n",
    "next_higher_temp(temperatures)"
   ]
  },
  {
   "cell_type": "code",
   "execution_count": 13,
   "id": "b6e80928",
   "metadata": {},
   "outputs": [
    {
     "data": {
      "text/plain": [
       "[0, 0, 0]"
      ]
     },
     "execution_count": 13,
     "metadata": {},
     "output_type": "execute_result"
    }
   ],
   "source": [
    "temperatures = [23, 22, 21]\n",
    "next_higher_temp(temperatures)"
   ]
  },
  {
   "cell_type": "code",
   "execution_count": 14,
   "id": "9e290038",
   "metadata": {},
   "outputs": [
    {
     "data": {
      "text/plain": [
       "[1, 4, 1, 2, 1, 0, 0]"
      ]
     },
     "execution_count": 14,
     "metadata": {},
     "output_type": "execute_result"
    }
   ],
   "source": [
    "temperatures = [30, 38, 30, 36, 35, 40, 40]\n",
    "next_higher_temp(temperatures)"
   ]
  },
  {
   "cell_type": "code",
   "execution_count": null,
   "id": "8e529170",
   "metadata": {},
   "outputs": [],
   "source": []
  }
 ],
 "metadata": {
  "kernelspec": {
   "display_name": "expt",
   "language": "python",
   "name": "python3"
  },
  "language_info": {
   "codemirror_mode": {
    "name": "ipython",
    "version": 3
   },
   "file_extension": ".py",
   "mimetype": "text/x-python",
   "name": "python",
   "nbconvert_exporter": "python",
   "pygments_lexer": "ipython3",
   "version": "3.12.11"
  }
 },
 "nbformat": 4,
 "nbformat_minor": 5
}
