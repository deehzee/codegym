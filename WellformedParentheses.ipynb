{
 "cells": [
  {
   "cell_type": "code",
   "execution_count": 2,
   "id": "fac5d3bf",
   "metadata": {},
   "outputs": [],
   "source": [
    "from typing import List"
   ]
  },
  {
   "cell_type": "code",
   "execution_count": 27,
   "id": "e3d7dfab",
   "metadata": {},
   "outputs": [],
   "source": [
    "def generate_parentheses(n: int) -> List[str]:\n",
    "    accumulator = []\n",
    "    builder = [\"\"] * (2 * n)\n",
    "\n",
    "    def _build_parentheses(\n",
    "        cur: int,       # current index where the parenthesis being inserted\n",
    "        n_open: int,    # number of open parentheses in being built so far\n",
    "        n_left: int,    # number of left parentheses remaining\n",
    "        n_right: int,   # number of right parenthese remaining\n",
    "    ):\n",
    "        # terminal condition\n",
    "        if n_right == 0:\n",
    "            accumulator.append(\"\".join(builder))\n",
    "            return\n",
    "\n",
    "        # left subtree\n",
    "        if n_left > 0:\n",
    "            builder[cur] = \"(\"\n",
    "            _build_parentheses(cur + 1, n_open + 1, n_left - 1, n_right)\n",
    "\n",
    "        # right subtree\n",
    "        if n_open > 0 and n_right > 0:\n",
    "            builder[cur] = \")\"\n",
    "            _build_parentheses(cur + 1, n_open - 1, n_left, n_right - 1)\n",
    "\n",
    "    _build_parentheses(0, 0, n, n)\n",
    "    return accumulator\n"
   ]
  },
  {
   "cell_type": "code",
   "execution_count": 28,
   "id": "d4f69fd3",
   "metadata": {},
   "outputs": [
    {
     "data": {
      "text/plain": [
       "['']"
      ]
     },
     "execution_count": 28,
     "metadata": {},
     "output_type": "execute_result"
    }
   ],
   "source": [
    "n = 0\n",
    "generate_parentheses(n)"
   ]
  },
  {
   "cell_type": "code",
   "execution_count": 29,
   "id": "0539bdce",
   "metadata": {},
   "outputs": [
    {
     "data": {
      "text/plain": [
       "['()']"
      ]
     },
     "execution_count": 29,
     "metadata": {},
     "output_type": "execute_result"
    }
   ],
   "source": [
    "n = 1\n",
    "generate_parentheses(n)"
   ]
  },
  {
   "cell_type": "code",
   "execution_count": 30,
   "id": "2b1a9345",
   "metadata": {},
   "outputs": [
    {
     "data": {
      "text/plain": [
       "['(())', '()()']"
      ]
     },
     "execution_count": 30,
     "metadata": {},
     "output_type": "execute_result"
    }
   ],
   "source": [
    "n = 2\n",
    "generate_parentheses(n)"
   ]
  },
  {
   "cell_type": "code",
   "execution_count": 31,
   "id": "88800db1",
   "metadata": {},
   "outputs": [
    {
     "data": {
      "text/plain": [
       "['((()))', '(()())', '(())()', '()(())', '()()()']"
      ]
     },
     "execution_count": 31,
     "metadata": {},
     "output_type": "execute_result"
    }
   ],
   "source": [
    "n = 3\n",
    "generate_parentheses(n)"
   ]
  },
  {
   "cell_type": "code",
   "execution_count": 32,
   "id": "9d252c09",
   "metadata": {},
   "outputs": [
    {
     "data": {
      "text/plain": [
       "14"
      ]
     },
     "execution_count": 32,
     "metadata": {},
     "output_type": "execute_result"
    }
   ],
   "source": [
    "n = 4\n",
    "len(generate_parentheses(n))"
   ]
  },
  {
   "cell_type": "code",
   "execution_count": 33,
   "id": "927781f8",
   "metadata": {},
   "outputs": [
    {
     "data": {
      "text/plain": [
       "42"
      ]
     },
     "execution_count": 33,
     "metadata": {},
     "output_type": "execute_result"
    }
   ],
   "source": [
    "n = 5\n",
    "len(generate_parentheses(n))"
   ]
  },
  {
   "cell_type": "code",
   "execution_count": 34,
   "id": "9adad9d4",
   "metadata": {},
   "outputs": [
    {
     "data": {
      "text/plain": [
       "132"
      ]
     },
     "execution_count": 34,
     "metadata": {},
     "output_type": "execute_result"
    }
   ],
   "source": [
    "n = 6\n",
    "len(generate_parentheses(n))"
   ]
  },
  {
   "cell_type": "code",
   "execution_count": 35,
   "id": "28c15189",
   "metadata": {},
   "outputs": [
    {
     "data": {
      "text/plain": [
       "429"
      ]
     },
     "execution_count": 35,
     "metadata": {},
     "output_type": "execute_result"
    }
   ],
   "source": [
    "n = 7\n",
    "len(generate_parentheses(n))"
   ]
  },
  {
   "cell_type": "code",
   "execution_count": 36,
   "id": "a2dc73e4",
   "metadata": {},
   "outputs": [
    {
     "data": {
      "text/plain": [
       "1430"
      ]
     },
     "execution_count": 36,
     "metadata": {},
     "output_type": "execute_result"
    }
   ],
   "source": [
    "n = 8\n",
    "len(generate_parentheses(n))"
   ]
  },
  {
   "cell_type": "code",
   "execution_count": 37,
   "id": "dbe2313d",
   "metadata": {},
   "outputs": [
    {
     "data": {
      "text/plain": [
       "16796"
      ]
     },
     "execution_count": 37,
     "metadata": {},
     "output_type": "execute_result"
    }
   ],
   "source": [
    "n = 10\n",
    "len(generate_parentheses(n))"
   ]
  },
  {
   "cell_type": "code",
   "execution_count": null,
   "id": "e79eaf74",
   "metadata": {},
   "outputs": [],
   "source": []
  }
 ],
 "metadata": {
  "kernelspec": {
   "display_name": "expt",
   "language": "python",
   "name": "python3"
  },
  "language_info": {
   "codemirror_mode": {
    "name": "ipython",
    "version": 3
   },
   "file_extension": ".py",
   "mimetype": "text/x-python",
   "name": "python",
   "nbconvert_exporter": "python",
   "pygments_lexer": "ipython3",
   "version": "3.12.11"
  }
 },
 "nbformat": 4,
 "nbformat_minor": 5
}
