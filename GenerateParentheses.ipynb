{
 "cells": [
  {
   "cell_type": "markdown",
   "id": "1aed6a9f",
   "metadata": {},
   "source": [
    "# Generate Balanced Parentheses\n",
    "\n",
    "Given a non-negative integer n, return all well-formed parentheses strings that can be generated with\n",
    "n pairs of parentheses.\n",
    "\n",
    "**Example 1:**\n",
    "```\n",
    "n = 1\n",
    "out = [\"()\"]\n",
    "```\n",
    "\n",
    "**Example 2:**\n",
    "```\n",
    "n = 2\n",
    "out = [\"(())\", \"()()\"]\n",
    "```\n",
    "\n",
    "**Example 3:**\n",
    "```\n",
    "n = 3\n",
    "out = [\"((()))\", \"(()())\", \"(())()\", \"()(())\", \"()()()\"]\n",
    "```"
   ]
  },
  {
   "cell_type": "code",
   "execution_count": 1,
   "id": "c2ed2a8b",
   "metadata": {},
   "outputs": [],
   "source": [
    "from typing import List"
   ]
  },
  {
   "cell_type": "markdown",
   "id": "9edc4d7d",
   "metadata": {},
   "source": [
    "## Recursion\n",
    "\n",
    "- **Time Complexity:** $\\mathrm{O}\\left(4^n / \\sqrt{n}\\right)$\n",
    "- **Space Complexity:** $\\mathrm{O}(n)$ (for the recursion stack and building each string)\n",
    "\n",
    "The number of valid parentheses strings for $n$ pairs is given by the $n$-th Catalan number:\n",
    "$$\n",
    "C(n) = \\frac{1}{n+1} \\binom{2n}{n} = \\frac{(2n)!}{n! (n+1)!}\n",
    "$$\n",
    "\n",
    "The recursive function generates all valid combinations by exploring every possible placement of '(' and ')',\n",
    "ensuring the parentheses remain balanced. The total number of unique combinations is $C(n)$.\n",
    "\n",
    "Each valid string has length $2n$, so building each string takes $\\mathrm{O}(n)$ time. However, the dominant\n",
    "factor is the number of combinations, which grows rapidly with $n$.\n",
    "\n",
    "Therefore, the overall time complexity is:\n",
    "$$\n",
    "\\mathrm{O}(n \\cdot C(n)) \\approx \\mathrm{O}\\left(\\frac{4^n}{\\sqrt{n}}\\right)\n",
    "$$\n",
    "where $$C(n) \\approx \\frac{4^n}{n^{3/2} \\sqrt{\\pi}}$$ for large $n$. The space complexity is $\\mathrm{O}(n)$ due to the recursion depth and string construction."
   ]
  },
  {
   "cell_type": "code",
   "execution_count": 4,
   "id": "64bdd575",
   "metadata": {},
   "outputs": [],
   "source": [
    "def _gen_parens(\n",
    "    accumulator: List[str], # Accumulates the well-formed parentheses\n",
    "    builder: List[str],     # Holds the parentheses, used to build the well balanced string\n",
    "    n_left: int,            # Number of left \"(\" remaining\n",
    "    n_right: int,           # Number of right \")\" remaining\n",
    "    n_open: int,            # Number of unbalanced open parentheses \"(\"\n",
    "    cur: int,               # Current index of builder\n",
    "):\n",
    "    # The terminal condition\n",
    "    if n_right == 0:\n",
    "        accumulator.append(\"\".join(builder))\n",
    "        return\n",
    "    \n",
    "    # Build the left subtree\n",
    "    if n_left > 0:\n",
    "        builder[cur] = \"(\"\n",
    "        _gen_parens(\n",
    "            accumulator=accumulator,\n",
    "            builder=builder,\n",
    "            n_left=(n_left - 1),\n",
    "            n_right=n_right,\n",
    "            n_open=(n_open + 1),\n",
    "            cur=(cur + 1),\n",
    "        )\n",
    "\n",
    "    # Build the right subtree\n",
    "    if n_open > 0 and n_right > 0:\n",
    "        builder[cur] = \")\"\n",
    "        _gen_parens(\n",
    "            accumulator=accumulator,\n",
    "            builder=builder,\n",
    "            n_left=n_left,\n",
    "            n_right=(n_right - 1),\n",
    "            n_open=(n_open - 1),\n",
    "            cur=(cur + 1),\n",
    "        )"
   ]
  },
  {
   "cell_type": "code",
   "execution_count": 8,
   "id": "9cb574e4",
   "metadata": {},
   "outputs": [],
   "source": [
    "def generate_parentheses(n: int) -> List[str]:\n",
    "    accumulator = []\n",
    "    builder = [\"\" for _ in range(2*n)]\n",
    "    _gen_parens(\n",
    "        accumulator=accumulator,\n",
    "        builder=builder,\n",
    "        n_left=n,\n",
    "        n_right=n,\n",
    "        n_open=0,\n",
    "        cur=0,\n",
    "    )\n",
    "    return accumulator"
   ]
  },
  {
   "cell_type": "code",
   "execution_count": 9,
   "id": "e48a6249",
   "metadata": {},
   "outputs": [
    {
     "data": {
      "text/plain": [
       "['']"
      ]
     },
     "execution_count": 9,
     "metadata": {},
     "output_type": "execute_result"
    }
   ],
   "source": [
    "generate_parentheses(0)"
   ]
  },
  {
   "cell_type": "code",
   "execution_count": null,
   "id": "d1dfac25",
   "metadata": {},
   "outputs": [
    {
     "data": {
      "text/plain": [
       "['(())', '()()']"
      ]
     },
     "execution_count": 11,
     "metadata": {},
     "output_type": "execute_result"
    }
   ],
   "source": [
    "generate_parentheses(1)"
   ]
  },
  {
   "cell_type": "code",
   "execution_count": 12,
   "id": "04801665",
   "metadata": {},
   "outputs": [
    {
     "data": {
      "text/plain": [
       "['(())', '()()']"
      ]
     },
     "execution_count": 12,
     "metadata": {},
     "output_type": "execute_result"
    }
   ],
   "source": [
    "generate_parentheses(2)"
   ]
  },
  {
   "cell_type": "code",
   "execution_count": 13,
   "id": "80b180b0",
   "metadata": {},
   "outputs": [
    {
     "data": {
      "text/plain": [
       "['((()))', '(()())', '(())()', '()(())', '()()()']"
      ]
     },
     "execution_count": 13,
     "metadata": {},
     "output_type": "execute_result"
    }
   ],
   "source": [
    "generate_parentheses(3)"
   ]
  },
  {
   "cell_type": "code",
   "execution_count": 24,
   "id": "99d1224a",
   "metadata": {},
   "outputs": [
    {
     "data": {
      "text/plain": [
       "4862"
      ]
     },
     "execution_count": 24,
     "metadata": {},
     "output_type": "execute_result"
    }
   ],
   "source": [
    "len(generate_parentheses(9))"
   ]
  },
  {
   "cell_type": "code",
   "execution_count": 56,
   "id": "1354e2f5",
   "metadata": {},
   "outputs": [],
   "source": [
    "def gen_parens_recursive(n: int) -> List[str]:\n",
    "    accumulator = []\n",
    "    builder = [\"\" for _ in range(2 * n)]\n",
    "\n",
    "    def _build(\n",
    "        n_left: int,    # Number of left parentheses remaining\n",
    "        n_right: int,   # Number of right parentheses remaining\n",
    "        n_open: int,    # Number of unbalanced open parentheses\n",
    "        cur: int,       # Current index being filled\n",
    "    ):\n",
    "        if n_right == 0:\n",
    "            accumulator.append(\"\".join(builder))\n",
    "        \n",
    "        # Build the left subtree\n",
    "        if n_left > 0:\n",
    "            builder[cur] = \"(\"\n",
    "            _build(n_left - 1, n_right, n_open + 1, cur + 1)\n",
    "\n",
    "        # Build the right subtree\n",
    "        if n_open > 0 and n_right > 0:\n",
    "            builder[cur] = \")\"\n",
    "            _build(n_left, n_right - 1, n_open - 1, cur + 1)\n",
    "\n",
    "    _build(n, n, 0, 0)\n",
    "    return accumulator"
   ]
  },
  {
   "cell_type": "code",
   "execution_count": 57,
   "id": "e4b6d703",
   "metadata": {},
   "outputs": [
    {
     "data": {
      "text/plain": [
       "['']"
      ]
     },
     "execution_count": 57,
     "metadata": {},
     "output_type": "execute_result"
    }
   ],
   "source": [
    "gen_parens_recursive(0)"
   ]
  },
  {
   "cell_type": "code",
   "execution_count": 58,
   "id": "667a5346",
   "metadata": {},
   "outputs": [
    {
     "data": {
      "text/plain": [
       "['()']"
      ]
     },
     "execution_count": 58,
     "metadata": {},
     "output_type": "execute_result"
    }
   ],
   "source": [
    "gen_parens_recursive(1)"
   ]
  },
  {
   "cell_type": "code",
   "execution_count": 59,
   "id": "dab02e5e",
   "metadata": {},
   "outputs": [
    {
     "data": {
      "text/plain": [
       "['(())', '()()']"
      ]
     },
     "execution_count": 59,
     "metadata": {},
     "output_type": "execute_result"
    }
   ],
   "source": [
    "gen_parens_recursive(2)"
   ]
  },
  {
   "cell_type": "code",
   "execution_count": 60,
   "id": "7427afc0",
   "metadata": {},
   "outputs": [
    {
     "data": {
      "text/plain": [
       "['((()))', '(()())', '(())()', '()(())', '()()()']"
      ]
     },
     "execution_count": 60,
     "metadata": {},
     "output_type": "execute_result"
    }
   ],
   "source": [
    "gen_parens_recursive(3)"
   ]
  },
  {
   "cell_type": "code",
   "execution_count": 61,
   "id": "6d664d02",
   "metadata": {},
   "outputs": [
    {
     "data": {
      "text/plain": [
       "429"
      ]
     },
     "execution_count": 61,
     "metadata": {},
     "output_type": "execute_result"
    }
   ],
   "source": [
    "len(gen_parens_recursive(7))"
   ]
  },
  {
   "cell_type": "code",
   "execution_count": 62,
   "id": "f683bd3f",
   "metadata": {},
   "outputs": [
    {
     "data": {
      "text/plain": [
       "1430"
      ]
     },
     "execution_count": 62,
     "metadata": {},
     "output_type": "execute_result"
    }
   ],
   "source": [
    "len(gen_parens_recursive(8))"
   ]
  },
  {
   "cell_type": "markdown",
   "id": "3a4b7354",
   "metadata": {},
   "source": [
    "## Brute Force\n",
    "\n",
    "- **Time Complexity:** $\\mathrm{O}(4^{n} \\cdot n)$\n",
    "- **Space Complexity:** $\\mathrm{O}(n)$ (for recursion stack and string building)\n",
    "\n",
    "The brute force approach generates all possible sequences of $2n$ parentheses, regardless of validity. For each sequence, it checks if the parentheses are balanced, which takes $\\mathrm{O}(n)$ time per sequence. Since there are $2^{2n}$ possible sequences, the total time complexity is $\\mathrm{O}(2^{2n} \\cdot n)$. The space complexity is $\\mathrm{O}(2n)$ due to the recursion depth and the temporary string used to build each sequence. This method is much less efficient than the recursive approach that only generates valid combinations."
   ]
  },
  {
   "cell_type": "code",
   "execution_count": 49,
   "id": "dc8784b8",
   "metadata": {},
   "outputs": [],
   "source": [
    "def gen_parens_brute_force(n: int) -> List[str]:\n",
    "    accumulator = []\n",
    "    b = [\"\" for _ in range(2 * n)]\n",
    "\n",
    "    def valid(k: int):\n",
    "        n_open = 0\n",
    "        for i in range(k):\n",
    "            n_open += (1 if b[i] == \"(\" else -1)\n",
    "            if n_open < 0:\n",
    "                return False\n",
    "        return n_open == 0\n",
    "    \n",
    "    def backtrack(i: int):\n",
    "        if i == 2*n:\n",
    "            if valid(2 * n):\n",
    "                accumulator.append(\"\".join(b))\n",
    "            return\n",
    "        b[i] = \"(\"\n",
    "        backtrack(i + 1)\n",
    "        b[i] = \")\"\n",
    "        backtrack(i + 1)\n",
    "\n",
    "    backtrack(0)\n",
    "    return accumulator\n"
   ]
  },
  {
   "cell_type": "code",
   "execution_count": 50,
   "id": "ee6fb319",
   "metadata": {},
   "outputs": [
    {
     "data": {
      "text/plain": [
       "['((()))', '(()())', '(())()', '()(())', '()()()']"
      ]
     },
     "execution_count": 50,
     "metadata": {},
     "output_type": "execute_result"
    }
   ],
   "source": [
    "gen_parens_brute_force(3)"
   ]
  },
  {
   "cell_type": "code",
   "execution_count": 48,
   "id": "411e6dec",
   "metadata": {},
   "outputs": [
    {
     "data": {
      "text/plain": [
       "1430"
      ]
     },
     "execution_count": 48,
     "metadata": {},
     "output_type": "execute_result"
    }
   ],
   "source": [
    "len(gen_parens_brute_force(8))"
   ]
  },
  {
   "cell_type": "code",
   "execution_count": 68,
   "id": "b413ea18",
   "metadata": {},
   "outputs": [
    {
     "name": "stdout",
     "output_type": "stream",
     "text": [
      "17.4 ms ± 523 μs per loop (mean ± std. dev. of 7 runs, 100 loops each)\n"
     ]
    }
   ],
   "source": [
    "%%timeit\n",
    "len(generate_parentheses(10))"
   ]
  },
  {
   "cell_type": "code",
   "execution_count": 70,
   "id": "a4534581",
   "metadata": {},
   "outputs": [
    {
     "name": "stdout",
     "output_type": "stream",
     "text": [
      "14.7 ms ± 778 μs per loop (mean ± std. dev. of 7 runs, 10 loops each)\n"
     ]
    }
   ],
   "source": [
    "%%timeit\n",
    "len(gen_parens_recursive(10))"
   ]
  },
  {
   "cell_type": "code",
   "execution_count": 71,
   "id": "71bea87a",
   "metadata": {},
   "outputs": [
    {
     "name": "stdout",
     "output_type": "stream",
     "text": [
      "649 ms ± 2.63 ms per loop (mean ± std. dev. of 7 runs, 1 loop each)\n"
     ]
    }
   ],
   "source": [
    "%%timeit\n",
    "len(gen_parens_brute_force(10))"
   ]
  },
  {
   "cell_type": "code",
   "execution_count": null,
   "id": "ab5ab549",
   "metadata": {},
   "outputs": [],
   "source": []
  }
 ],
 "metadata": {
  "kernelspec": {
   "display_name": "expt",
   "language": "python",
   "name": "python3"
  },
  "language_info": {
   "codemirror_mode": {
    "name": "ipython",
    "version": 3
   },
   "file_extension": ".py",
   "mimetype": "text/x-python",
   "name": "python",
   "nbconvert_exporter": "python",
   "pygments_lexer": "ipython3",
   "version": "3.12.11"
  }
 },
 "nbformat": 4,
 "nbformat_minor": 5
}
