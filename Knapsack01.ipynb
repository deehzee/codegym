{
 "cells": [
  {
   "cell_type": "markdown",
   "id": "6edf48ee",
   "metadata": {},
   "source": [
    "# 0/1 Knapsack Problem\n",
    "\n",
    "The goal is to maximize the total value of items that can be put into a knapsack with a given capacity. Each item has a weight and a value, and you can either take the whole item or leave it.\n",
    "\n",
    "Input:\n",
    "- `capacity`: the maximum weight the knapsack can hold.\n",
    "- `weights`: a list of weights of the items.\n",
    "- `values`: a list of values corresponding to the items.\n",
    "\n",
    "Optimal solution:\n",
    "- **Time Complexity**: O(n * capacity)\n",
    "- **Space Complexity**: O(n * capacity)\n",
    "\n",
    "where n is the number of items."
   ]
  },
  {
   "cell_type": "code",
   "execution_count": 1,
   "id": "1559f1cd",
   "metadata": {},
   "outputs": [],
   "source": [
    "import json\n",
    "from typing import List"
   ]
  },
  {
   "cell_type": "code",
   "execution_count": 2,
   "id": "e870f545",
   "metadata": {},
   "outputs": [],
   "source": [
    "from utils.test_runner import run_tests"
   ]
  },
  {
   "cell_type": "markdown",
   "id": "2d2cdfa6",
   "metadata": {},
   "source": [
    "## Test Cases"
   ]
  },
  {
   "cell_type": "code",
   "execution_count": 3,
   "id": "c1bd3f7a",
   "metadata": {},
   "outputs": [],
   "source": [
    "test_cases = [\n",
    "    {\n",
    "        \"params\": {\n",
    "            \"values\": [1,6,10,16],\n",
    "            \"weights\": [1,2,3,5],\n",
    "            \"capacity\": 0,\n",
    "        },\n",
    "        \"expected\": 0,\n",
    "    },\n",
    "    {\n",
    "        \"params\": {\n",
    "            \"values\": [1,6,10,16],\n",
    "            \"weights\": [1,2,3,5],\n",
    "            \"capacity\": 1,\n",
    "        },\n",
    "        \"expected\": 1,\n",
    "    },\n",
    "    {\n",
    "        \"params\": {\n",
    "            \"values\": [1,6,10,16],\n",
    "            \"weights\": [1,2,3,5],\n",
    "            \"capacity\": 2,\n",
    "        },\n",
    "        \"expected\": 6,\n",
    "    },\n",
    "    {\n",
    "        \"params\": {\n",
    "            \"values\": [1,6,10,16],\n",
    "            \"weights\": [1,2,3,5],\n",
    "            \"capacity\": 3,\n",
    "        },\n",
    "        \"expected\": 10,\n",
    "    },\n",
    "    {\n",
    "        \"params\": {\n",
    "            \"values\": [1,6,10,16],\n",
    "            \"weights\": [1,2,3,5],\n",
    "            \"capacity\": 4,\n",
    "        },\n",
    "        \"expected\": 11,\n",
    "    },\n",
    "    {\n",
    "        \"params\": {\n",
    "            \"values\": [1,6,10,16],\n",
    "            \"weights\": [1,2,3,5],\n",
    "            \"capacity\": 5,\n",
    "        },\n",
    "        \"expected\": 16,\n",
    "    },\n",
    "    {\n",
    "        \"params\": {\n",
    "            \"values\": [1,6,10,16],\n",
    "            \"weights\": [1,2,3,5],\n",
    "            \"capacity\": 6,\n",
    "        },\n",
    "        \"expected\": 17,\n",
    "    },\n",
    "    {\n",
    "        \"params\": {\n",
    "            \"values\": [1,6,10,16],\n",
    "            \"weights\": [1,2,3,5],\n",
    "            \"capacity\": 7,\n",
    "        },\n",
    "        \"expected\": 22,\n",
    "    },\n",
    "    {\n",
    "        \"params\": {\n",
    "            \"values\": [1,6,10,16],\n",
    "            \"weights\": [1,2,3,5],\n",
    "            \"capacity\": 8,\n",
    "        },\n",
    "        \"expected\": 26,\n",
    "    },\n",
    "    {\n",
    "        \"params\": {\n",
    "            \"values\": [1,6,10,16],\n",
    "            \"weights\": [1,2,3,5],\n",
    "            \"capacity\": 9,\n",
    "        },\n",
    "        \"expected\": 27,\n",
    "    },\n",
    "    {\n",
    "        \"params\": {\n",
    "            \"values\": [1,6,10,16],\n",
    "            \"weights\": [1,2,3,5],\n",
    "            \"capacity\": 10,\n",
    "        },\n",
    "        \"expected\": 32,\n",
    "    },\n",
    "    {\n",
    "        \"params\": {\n",
    "            \"values\": [1,6,10,16],\n",
    "            \"weights\": [1,2,3,5],\n",
    "            \"capacity\": 11,\n",
    "        },\n",
    "        \"expected\": 33,\n",
    "    },\n",
    "]"
   ]
  },
  {
   "cell_type": "markdown",
   "id": "7e7bc6ed",
   "metadata": {},
   "source": [
    "## Recursive Unoptimized"
   ]
  },
  {
   "cell_type": "markdown",
   "id": "a64f45be",
   "metadata": {},
   "source": [
    "Let f(C, N) be the optimal value in the knapsack of capacity C and values v[1..N]\n",
    "\n",
    "Now, two cases:\n",
    "1. item[N] is not part of the optimal solution\n",
    "2. item[N] is part of the optimal solution\n",
    "\n",
    "Thus\n",
    "1. f(C, N) = f(C, N-1)\n",
    "2. f(C, N) = v[N] + f(C-v[N], N-1)\n",
    "\n",
    "Therefore, f(C, N) = max(f(C, N-1), f(C-w[N], N-1))\n",
    "\n",
    "Base case:\n",
    "f(0, N) = f(C, 0) = 0"
   ]
  },
  {
   "cell_type": "code",
   "execution_count": 4,
   "id": "8b7923ba",
   "metadata": {},
   "outputs": [],
   "source": [
    "def knapsack_recursive(values: List[int], weights: List[int], capacity: int) -> int:\n",
    "    assert len(values) == len(weights), \"'values' and 'weights' must have the same size\"\n",
    "    stats = {'calls': 0}\n",
    "\n",
    "    def _knapsack_recursive(capacity: int, n: int) -> int:\n",
    "        nonlocal stats\n",
    "        stats['calls'] += 1\n",
    "        if capacity <= 0 or n == 0:\n",
    "            return 0\n",
    "        if capacity < weights[n - 1]:\n",
    "            return _knapsack_recursive(capacity, n - 1)\n",
    "        return max(\n",
    "            _knapsack_recursive(capacity, n - 1),\n",
    "            values[n - 1] + _knapsack_recursive(capacity - weights[n - 1], n - 1)\n",
    "        )\n",
    "\n",
    "    ans = _knapsack_recursive(capacity, len(values))\n",
    "    print(f\"stats: {json.dumps(stats)}\")\n",
    "    return ans"
   ]
  },
  {
   "cell_type": "markdown",
   "id": "6513b9fe",
   "metadata": {
    "vscode": {
     "languageId": "markdown"
    }
   },
   "source": [
    "**Time Complexity:**  \n",
    "The `knapsack_recursive` function explores all possible subsets of items. For each item, there are two choices: include or exclude. Therefore, the total number of recursive calls is $O(2^n)$, where $n$ is the number of items.\n",
    "\n",
    "**Space Complexity:**  \n",
    "The maximum depth of the recursion tree is $n$ (the number of items), so the space complexity due to the call stack is $O(n)$.\n"
   ]
  },
  {
   "cell_type": "markdown",
   "id": "a2b60b5b",
   "metadata": {},
   "source": []
  },
  {
   "cell_type": "code",
   "execution_count": 5,
   "id": "ff3ef1fa",
   "metadata": {},
   "outputs": [
    {
     "name": "stdout",
     "output_type": "stream",
     "text": [
      "stats: {\"calls\": 1}\n",
      "stats: {\"calls\": 6}\n",
      "stats: {\"calls\": 7}\n",
      "stats: {\"calls\": 10}\n",
      "stats: {\"calls\": 13}\n",
      "stats: {\"calls\": 15}\n",
      "stats: {\"calls\": 21}\n",
      "stats: {\"calls\": 22}\n",
      "stats: {\"calls\": 25}\n",
      "stats: {\"calls\": 28}\n",
      "stats: {\"calls\": 29}\n",
      "stats: {\"calls\": 31}\n",
      "Passed 12/12 tests.\n"
     ]
    }
   ],
   "source": [
    "run_tests(test_cases, knapsack_recursive)"
   ]
  },
  {
   "cell_type": "markdown",
   "id": "71affa64",
   "metadata": {},
   "source": [
    "## Top-Down with Memoization"
   ]
  },
  {
   "cell_type": "code",
   "execution_count": 6,
   "id": "59ed9060",
   "metadata": {},
   "outputs": [],
   "source": [
    "def knapsack_memoized(values: List[int], weights: List[int], capacity: int) -> int:\n",
    "    assert len(values) == len(weights), \"'values' and 'weights' must have the same size\"\n",
    "    stats = {'calls': 0, 'hits': 0, 'misses': 0}\n",
    "    cache = {}\n",
    "\n",
    "    def _knapsack_memoized(capacity: int, n: int) -> int:\n",
    "        nonlocal stats, cache\n",
    "        stats['calls'] += 1\n",
    "        if (capacity, n) in cache:\n",
    "            stats['hits'] += 1\n",
    "        elif capacity <= 0 or n <= 0:\n",
    "            stats['misses'] == 1\n",
    "            cache[(capacity, n)] = 0\n",
    "        elif capacity < weights[n - 1]:\n",
    "            stats['misses'] += 1\n",
    "            cache[(capacity, n)] = _knapsack_memoized(capacity, n - 1)\n",
    "        else:\n",
    "            stats['misses'] += 1\n",
    "            cache[(capacity, n)] = max(\n",
    "                _knapsack_memoized(capacity, n - 1),\n",
    "                values[n - 1] + _knapsack_memoized(capacity - weights[n - 1], n - 1)\n",
    "            )\n",
    "        return cache[(capacity, n)]\n",
    "\n",
    "    ans = _knapsack_memoized(capacity, len(values))\n",
    "    print(f\"stats: {json.dumps(stats)}\")\n",
    "    return ans"
   ]
  },
  {
   "cell_type": "code",
   "execution_count": 7,
   "id": "fb464b98",
   "metadata": {},
   "outputs": [
    {
     "name": "stdout",
     "output_type": "stream",
     "text": [
      "stats: {\"calls\": 1, \"hits\": 0, \"misses\": 0}\n",
      "stats: {\"calls\": 6, \"hits\": 0, \"misses\": 4}\n",
      "stats: {\"calls\": 7, \"hits\": 0, \"misses\": 4}\n",
      "stats: {\"calls\": 10, \"hits\": 0, \"misses\": 5}\n",
      "stats: {\"calls\": 13, \"hits\": 1, \"misses\": 7}\n",
      "stats: {\"calls\": 15, \"hits\": 1, \"misses\": 7}\n",
      "stats: {\"calls\": 19, \"hits\": 2, \"misses\": 10}\n",
      "stats: {\"calls\": 20, \"hits\": 2, \"misses\": 10}\n",
      "stats: {\"calls\": 23, \"hits\": 2, \"misses\": 11}\n",
      "stats: {\"calls\": 26, \"hits\": 3, \"misses\": 13}\n",
      "stats: {\"calls\": 27, \"hits\": 3, \"misses\": 13}\n",
      "stats: {\"calls\": 29, \"hits\": 3, \"misses\": 14}\n",
      "Passed 12/12 tests.\n"
     ]
    }
   ],
   "source": [
    "run_tests(test_cases, knapsack_memoized)"
   ]
  },
  {
   "cell_type": "code",
   "execution_count": null,
   "id": "5acf78d8",
   "metadata": {},
   "outputs": [],
   "source": []
  }
 ],
 "metadata": {
  "kernelspec": {
   "display_name": "expt",
   "language": "python",
   "name": "python3"
  },
  "language_info": {
   "codemirror_mode": {
    "name": "ipython",
    "version": 3
   },
   "file_extension": ".py",
   "mimetype": "text/x-python",
   "name": "python",
   "nbconvert_exporter": "python",
   "pygments_lexer": "ipython3",
   "version": "3.12.11"
  }
 },
 "nbformat": 4,
 "nbformat_minor": 5
}
