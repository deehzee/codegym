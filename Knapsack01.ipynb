{
 "cells": [
  {
   "cell_type": "markdown",
   "id": "6edf48ee",
   "metadata": {},
   "source": [
    "# 0/1 Knapsack Problem\n",
    "\n",
    "The goal is to maximize the total value of items that can be put into a knapsack with a given capacity. Each item has a weight and a value, and you can either take the whole item or leave it.\n",
    "\n",
    "Input:\n",
    "- `capacity`: the maximum weight the knapsack can hold.\n",
    "- `weights`: a list of weights of the items.\n",
    "- `values`: a list of values corresponding to the items.\n",
    "\n",
    "Optimal solution:\n",
    "- **Time Complexity**: O(n * capacity)\n",
    "- **Space Complexity**: O(n * capacity)\n",
    "\n",
    "where n is the number of items."
   ]
  },
  {
   "cell_type": "code",
   "execution_count": 2,
   "id": "1559f1cd",
   "metadata": {},
   "outputs": [],
   "source": [
    "import json\n",
    "from typing import List"
   ]
  },
  {
   "cell_type": "code",
   "execution_count": 3,
   "id": "e870f545",
   "metadata": {},
   "outputs": [],
   "source": [
    "from utils.test_runner import run_tests"
   ]
  },
  {
   "cell_type": "markdown",
   "id": "2d2cdfa6",
   "metadata": {},
   "source": [
    "## Test Cases"
   ]
  },
  {
   "cell_type": "code",
   "execution_count": 4,
   "id": "c1bd3f7a",
   "metadata": {},
   "outputs": [],
   "source": [
    "test_cases = [\n",
    "    {\n",
    "        \"params\": {\n",
    "            \"values\": [1,6,10,16],\n",
    "            \"weights\": [1,2,3,5],\n",
    "            \"capacity\": 0,\n",
    "        },\n",
    "        \"expected\": 0,\n",
    "    },\n",
    "    {\n",
    "        \"params\": {\n",
    "            \"values\": [1,6,10,16],\n",
    "            \"weights\": [1,2,3,5],\n",
    "            \"capacity\": 1,\n",
    "        },\n",
    "        \"expected\": 1,\n",
    "    },\n",
    "    {\n",
    "        \"params\": {\n",
    "            \"values\": [1,6,10,16],\n",
    "            \"weights\": [1,2,3,5],\n",
    "            \"capacity\": 2,\n",
    "        },\n",
    "        \"expected\": 6,\n",
    "    },\n",
    "    {\n",
    "        \"params\": {\n",
    "            \"values\": [1,6,10,16],\n",
    "            \"weights\": [1,2,3,5],\n",
    "            \"capacity\": 3,\n",
    "        },\n",
    "        \"expected\": 10,\n",
    "    },\n",
    "    {\n",
    "        \"params\": {\n",
    "            \"values\": [1,6,10,16],\n",
    "            \"weights\": [1,2,3,5],\n",
    "            \"capacity\": 4,\n",
    "        },\n",
    "        \"expected\": 11,\n",
    "    },\n",
    "    {\n",
    "        \"params\": {\n",
    "            \"values\": [1,6,10,16],\n",
    "            \"weights\": [1,2,3,5],\n",
    "            \"capacity\": 5,\n",
    "        },\n",
    "        \"expected\": 16,\n",
    "    },\n",
    "    {\n",
    "        \"params\": {\n",
    "            \"values\": [1,6,10,16],\n",
    "            \"weights\": [1,2,3,5],\n",
    "            \"capacity\": 6,\n",
    "        },\n",
    "        \"expected\": 17,\n",
    "    },\n",
    "    {\n",
    "        \"params\": {\n",
    "            \"values\": [1,6,10,16],\n",
    "            \"weights\": [1,2,3,5],\n",
    "            \"capacity\": 7,\n",
    "        },\n",
    "        \"expected\": 22,\n",
    "    },\n",
    "    {\n",
    "        \"params\": {\n",
    "            \"values\": [1,6,10,16],\n",
    "            \"weights\": [1,2,3,5],\n",
    "            \"capacity\": 8,\n",
    "        },\n",
    "        \"expected\": 26,\n",
    "    },\n",
    "    {\n",
    "        \"params\": {\n",
    "            \"values\": [1,6,10,16],\n",
    "            \"weights\": [1,2,3,5],\n",
    "            \"capacity\": 9,\n",
    "        },\n",
    "        \"expected\": 27,\n",
    "    },\n",
    "    {\n",
    "        \"params\": {\n",
    "            \"values\": [1,6,10,16],\n",
    "            \"weights\": [1,2,3,5],\n",
    "            \"capacity\": 10,\n",
    "        },\n",
    "        \"expected\": 32,\n",
    "    },\n",
    "    {\n",
    "        \"params\": {\n",
    "            \"values\": [1,6,10,16],\n",
    "            \"weights\": [1,2,3,5],\n",
    "            \"capacity\": 11,\n",
    "        },\n",
    "        \"expected\": 33,\n",
    "    },\n",
    "    {\n",
    "        \"params\": {\n",
    "            \"values\": [24, 13, 23, 15, 16, 20, 18, 12, 17, 19, 22, 14, 21, 11, 25, 10, 26, 27, 28, 29],\n",
    "            \"weights\": [12, 7, 11, 8, 9, 10, 13, 6, 7, 8, 9, 5, 10, 4, 11, 3, 12, 13, 14, 15],\n",
    "            \"capacity\": 50,\n",
    "        },\n",
    "        \"expected\": 122,\n",
    "    },\n",
    "]"
   ]
  },
  {
   "cell_type": "markdown",
   "id": "7e7bc6ed",
   "metadata": {},
   "source": [
    "## Recursive Unoptimized"
   ]
  },
  {
   "cell_type": "markdown",
   "id": "a64f45be",
   "metadata": {},
   "source": [
    "Let f(C, N) be the optimal value in the knapsack of capacity C and values v[1..N]\n",
    "\n",
    "Now, two cases:\n",
    "1. item[N] is not part of the optimal solution\n",
    "2. item[N] is part of the optimal solution\n",
    "\n",
    "Thus\n",
    "1. f(C, N) = f(C, N-1)\n",
    "2. f(C, N) = v[N] + f(C-v[N], N-1)\n",
    "\n",
    "Therefore, f(C, N) = max(f(C, N-1), f(C-w[N], N-1))\n",
    "\n",
    "Base case:\n",
    "f(0, N) = f(C, 0) = 0"
   ]
  },
  {
   "cell_type": "code",
   "execution_count": 5,
   "id": "8b7923ba",
   "metadata": {},
   "outputs": [],
   "source": [
    "def knapsack_recursive(values: List[int], weights: List[int], capacity: int) -> int:\n",
    "    assert len(values) == len(weights), \"'values' and 'weights' must have the same size\"\n",
    "    stats = {'calls': 0}\n",
    "\n",
    "    def _knapsack_recursive(capacity: int, n: int) -> int:\n",
    "        nonlocal stats\n",
    "        stats['calls'] += 1\n",
    "        if capacity <= 0 or n == 0:\n",
    "            return 0\n",
    "        if capacity < weights[n - 1]:\n",
    "            return _knapsack_recursive(capacity, n - 1)\n",
    "        return max(\n",
    "            _knapsack_recursive(capacity, n - 1),\n",
    "            values[n - 1] + _knapsack_recursive(capacity - weights[n - 1], n - 1)\n",
    "        )\n",
    "\n",
    "    ans = _knapsack_recursive(capacity, len(values))\n",
    "    print(f\"stats: {json.dumps(stats)}\")\n",
    "    return ans"
   ]
  },
  {
   "cell_type": "markdown",
   "id": "6513b9fe",
   "metadata": {
    "vscode": {
     "languageId": "markdown"
    }
   },
   "source": [
    "**Time Complexity:**  \n",
    "The `knapsack_recursive` function explores all possible subsets of items. For each item, there are two choices: include or exclude. Therefore, the total number of recursive calls is $O(2^n)$, where $n$ is the number of items.\n",
    "\n",
    "**Space Complexity:**  \n",
    "The maximum depth of the recursion tree is $n$ (the number of items), so the space complexity due to the call stack is $O(n)$.\n"
   ]
  },
  {
   "cell_type": "markdown",
   "id": "a2b60b5b",
   "metadata": {},
   "source": []
  },
  {
   "cell_type": "code",
   "execution_count": 6,
   "id": "ff3ef1fa",
   "metadata": {},
   "outputs": [
    {
     "name": "stdout",
     "output_type": "stream",
     "text": [
      "stats: {\"calls\": 1}\n",
      "stats: {\"calls\": 6}\n",
      "stats: {\"calls\": 7}\n",
      "stats: {\"calls\": 10}\n",
      "stats: {\"calls\": 13}\n",
      "stats: {\"calls\": 15}\n",
      "stats: {\"calls\": 21}\n",
      "stats: {\"calls\": 22}\n",
      "stats: {\"calls\": 25}\n",
      "stats: {\"calls\": 28}\n",
      "stats: {\"calls\": 29}\n",
      "stats: {\"calls\": 31}\n",
      "stats: {\"calls\": 91420}\n",
      "Passed 13/13 tests.\n"
     ]
    }
   ],
   "source": [
    "run_tests(test_cases, knapsack_recursive)"
   ]
  },
  {
   "cell_type": "markdown",
   "id": "71affa64",
   "metadata": {},
   "source": [
    "## Top-Down with Memoization"
   ]
  },
  {
   "cell_type": "code",
   "execution_count": 7,
   "id": "59ed9060",
   "metadata": {},
   "outputs": [],
   "source": [
    "def knapsack_memoized(values: List[int], weights: List[int], capacity: int) -> int:\n",
    "    assert len(values) == len(weights), \"'values' and 'weights' must have the same size\"\n",
    "    stats = {'calls': 0, 'hits': 0, 'misses': 0}\n",
    "    cache = {}\n",
    "\n",
    "    def _knapsack_memoized(capacity: int, n: int) -> int:\n",
    "        nonlocal stats, cache\n",
    "        stats['calls'] += 1\n",
    "        if (capacity, n) in cache:\n",
    "            stats['hits'] += 1\n",
    "        elif capacity <= 0 or n <= 0:\n",
    "            stats['misses'] += 1\n",
    "            cache[(capacity, n)] = 0\n",
    "        elif capacity < weights[n - 1]:\n",
    "            stats['misses'] += 1\n",
    "            cache[(capacity, n)] = _knapsack_memoized(capacity, n - 1)\n",
    "        else:\n",
    "            stats['misses'] += 1\n",
    "            cache[(capacity, n)] = max(\n",
    "                _knapsack_memoized(capacity, n - 1),\n",
    "                values[n - 1] + _knapsack_memoized(capacity - weights[n - 1], n - 1)\n",
    "            )\n",
    "        return cache[(capacity, n)]\n",
    "\n",
    "    ans = _knapsack_memoized(capacity, len(values))\n",
    "    print(f\"stats: {json.dumps(stats)}\")\n",
    "    return ans"
   ]
  },
  {
   "cell_type": "code",
   "execution_count": 8,
   "id": "fb464b98",
   "metadata": {},
   "outputs": [
    {
     "name": "stdout",
     "output_type": "stream",
     "text": [
      "stats: {\"calls\": 1, \"hits\": 0, \"misses\": 1}\n",
      "stats: {\"calls\": 6, \"hits\": 0, \"misses\": 6}\n",
      "stats: {\"calls\": 7, \"hits\": 0, \"misses\": 7}\n",
      "stats: {\"calls\": 10, \"hits\": 0, \"misses\": 10}\n",
      "stats: {\"calls\": 13, \"hits\": 1, \"misses\": 12}\n",
      "stats: {\"calls\": 15, \"hits\": 1, \"misses\": 14}\n",
      "stats: {\"calls\": 19, \"hits\": 2, \"misses\": 17}\n",
      "stats: {\"calls\": 20, \"hits\": 2, \"misses\": 18}\n",
      "stats: {\"calls\": 23, \"hits\": 2, \"misses\": 21}\n",
      "stats: {\"calls\": 26, \"hits\": 3, \"misses\": 23}\n",
      "stats: {\"calls\": 27, \"hits\": 3, \"misses\": 24}\n",
      "stats: {\"calls\": 29, \"hits\": 3, \"misses\": 26}\n",
      "stats: {\"calls\": 1280, \"hits\": 524, \"misses\": 756}\n",
      "Passed 13/13 tests.\n"
     ]
    }
   ],
   "source": [
    "run_tests(test_cases, knapsack_memoized)"
   ]
  },
  {
   "cell_type": "markdown",
   "id": "a51ed862",
   "metadata": {},
   "source": [
    "## Bottom-Up Dynamic Programming"
   ]
  },
  {
   "cell_type": "code",
   "execution_count": 9,
   "id": "04623520",
   "metadata": {},
   "outputs": [],
   "source": [
    "def knapsack_dp(values: List[int], weights: List[int], capacity: int) -> int:\n",
    "    assert len(values) == len(weights), \"'values' and 'weights' should have the same size\"\n",
    "    N = len(values)\n",
    "    dp = [[0 for _ in range(N + 1)] for _ in range(capacity + 1)]\n",
    "    count = 0\n",
    "    for c in range(1, capacity + 1):\n",
    "        for n in range(1, N + 1):\n",
    "            count += 1\n",
    "            dp[c][n] = max(\n",
    "                dp[c][n - 1],\n",
    "                values[n - 1] + dp[c - weights[n - 1]][n - 1] if c >= weights[n - 1] else 0\n",
    "            )\n",
    "    stats = {'count': count, 'cells': (N + 1) * (capacity + 1)}\n",
    "    print(f\"stats: {json.dumps(stats)}\")\n",
    "    return dp[capacity][N]\n"
   ]
  },
  {
   "cell_type": "code",
   "execution_count": 10,
   "id": "5acf78d8",
   "metadata": {},
   "outputs": [
    {
     "name": "stdout",
     "output_type": "stream",
     "text": [
      "stats: {\"count\": 0, \"cells\": 5}\n",
      "stats: {\"count\": 4, \"cells\": 10}\n",
      "stats: {\"count\": 8, \"cells\": 15}\n",
      "stats: {\"count\": 12, \"cells\": 20}\n",
      "stats: {\"count\": 16, \"cells\": 25}\n",
      "stats: {\"count\": 20, \"cells\": 30}\n",
      "stats: {\"count\": 24, \"cells\": 35}\n",
      "stats: {\"count\": 28, \"cells\": 40}\n",
      "stats: {\"count\": 32, \"cells\": 45}\n",
      "stats: {\"count\": 36, \"cells\": 50}\n",
      "stats: {\"count\": 40, \"cells\": 55}\n",
      "stats: {\"count\": 44, \"cells\": 60}\n",
      "stats: {\"count\": 1000, \"cells\": 1071}\n",
      "Passed 13/13 tests.\n"
     ]
    }
   ],
   "source": [
    "run_tests(test_cases, knapsack_dp)"
   ]
  },
  {
   "cell_type": "markdown",
   "id": "def00350",
   "metadata": {},
   "source": [
    "## Optimized Bottom-Up Approach"
   ]
  },
  {
   "cell_type": "code",
   "execution_count": 11,
   "id": "d389c202",
   "metadata": {},
   "outputs": [],
   "source": [
    "def knapsack_dp_opt(values: List[int], weights: List[int], capacity: int) -> int:\n",
    "    assert len(values) == len(weights), \"'values' and 'weights' should have the same size\"\n",
    "    N = len(values)\n",
    "    dp = [[0 for _ in range(capacity + 1)] for _ in range(2)]\n",
    "    count = 0\n",
    "    for n in range(1, N + 1):\n",
    "        for c in range(1, capacity + 1):\n",
    "            count += 1\n",
    "            dp[n % 2][c] = max(\n",
    "                dp[(n - 1) % 2][c],\n",
    "                values[n - 1] + dp[(n - 1) % 2][c - weights[n - 1]] if c >= weights[n - 1] else 0\n",
    "            )\n",
    "    stats = {'count': count, 'cells': 2 * (capacity + 1)}\n",
    "    print('stats:', stats)\n",
    "    return dp[N % 2][capacity]"
   ]
  },
  {
   "cell_type": "code",
   "execution_count": 12,
   "id": "aebcfd5c",
   "metadata": {},
   "outputs": [
    {
     "name": "stdout",
     "output_type": "stream",
     "text": [
      "stats: {'count': 0, 'cells': 2}\n",
      "stats: {'count': 4, 'cells': 4}\n",
      "stats: {'count': 8, 'cells': 6}\n",
      "stats: {'count': 12, 'cells': 8}\n",
      "stats: {'count': 16, 'cells': 10}\n",
      "stats: {'count': 20, 'cells': 12}\n",
      "stats: {'count': 24, 'cells': 14}\n",
      "stats: {'count': 28, 'cells': 16}\n",
      "stats: {'count': 32, 'cells': 18}\n",
      "stats: {'count': 36, 'cells': 20}\n",
      "stats: {'count': 40, 'cells': 22}\n",
      "stats: {'count': 44, 'cells': 24}\n",
      "stats: {'count': 1000, 'cells': 102}\n",
      "Passed 13/13 tests.\n"
     ]
    }
   ],
   "source": [
    "run_tests(test_cases, knapsack_dp_opt)"
   ]
  },
  {
   "cell_type": "markdown",
   "id": "16b51bd5",
   "metadata": {},
   "source": [
    "## Printing the Optimal Values"
   ]
  },
  {
   "cell_type": "code",
   "execution_count": 15,
   "id": "09b48c7f",
   "metadata": {},
   "outputs": [],
   "source": [
    "def knapsack_print(values: List[int], weights: List[int], capacity: int) -> int:\n",
    "    assert len(values) == len(weights), \"'values' and 'weights' should have the same size\"\n",
    "    N = len(values)\n",
    "    dp = [[0 for _ in range(capacity + 1)] for _ in range(N + 1)]\n",
    "    for n in range(1, N + 1):\n",
    "        for c in range(1, capacity + 1):\n",
    "            dp[n][c] = max(\n",
    "                dp[n - 1][c],\n",
    "                values[n - 1] + dp[n - 1][c - weights[n - 1]] if weights[n - 1] <= c else 0\n",
    "            )\n",
    "    return dp[n][capacity]"
   ]
  },
  {
   "cell_type": "code",
   "execution_count": null,
   "id": "1ca23b7f",
   "metadata": {},
   "outputs": [],
   "source": [
    "def get_knapsack_soln(dp: List[List[int]]) -> List[int]:\n",
    "    N = len(dp) - 1\n",
    "    capacity = len(dp[0]) - 1\n",
    "    soln = []\n",
    "    if N == 0:\n",
    "        return soln\n",
    "    \n",
    "    "
   ]
  },
  {
   "cell_type": "code",
   "execution_count": 16,
   "id": "3e20f0b5",
   "metadata": {},
   "outputs": [
    {
     "name": "stdout",
     "output_type": "stream",
     "text": [
      "Passed 13/13 tests.\n"
     ]
    }
   ],
   "source": [
    "run_tests(test_cases, knapsack_print)"
   ]
  },
  {
   "cell_type": "code",
   "execution_count": null,
   "id": "9fe6f640",
   "metadata": {},
   "outputs": [],
   "source": []
  }
 ],
 "metadata": {
  "kernelspec": {
   "display_name": "expt",
   "language": "python",
   "name": "python3"
  },
  "language_info": {
   "codemirror_mode": {
    "name": "ipython",
    "version": 3
   },
   "file_extension": ".py",
   "mimetype": "text/x-python",
   "name": "python",
   "nbconvert_exporter": "python",
   "pygments_lexer": "ipython3",
   "version": "3.12.11"
  }
 },
 "nbformat": 4,
 "nbformat_minor": 5
}
